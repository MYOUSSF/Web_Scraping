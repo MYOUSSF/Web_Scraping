{
 "cells": [
  {
   "cell_type": "markdown",
   "id": "6d0f0f45",
   "metadata": {},
   "source": [
    "@YoussefM"
   ]
  },
  {
   "cell_type": "code",
   "execution_count": 1,
   "id": "34b46917",
   "metadata": {},
   "outputs": [],
   "source": [
    "import requests\n",
    "from bs4 import BeautifulSoup\n",
    "import lxml\n",
    "import re"
   ]
  },
  {
   "cell_type": "code",
   "execution_count": 2,
   "id": "28b5f9ed",
   "metadata": {},
   "outputs": [],
   "source": [
    "import pandas as pd"
   ]
  },
  {
   "cell_type": "code",
   "execution_count": 49,
   "id": "cda51449",
   "metadata": {},
   "outputs": [],
   "source": [
    "def poets_per_page(i: int):\n",
    "    \"\"\"\n",
    "    takes a page number, an integer between 1 and 188, and returns the list \n",
    "    of all poets in the given page \n",
    "    \"\"\"\n",
    "    poets = []\n",
    "    address = 'https://diwandb.com/poets?page='+str(i)\n",
    "    url = requests.get(address)\n",
    "    page = url.content\n",
    "    soup = BeautifulSoup(page, \"lxml\")\n",
    "    data = soup.find_all(href=re.compile(\"/poet/\"))\n",
    "    for poet in data:\n",
    "        poet_ = 'https://diwandb.com'+poet.get('href')\n",
    "        \n",
    "        page_poet = requests.get(poet_).content\n",
    "        soup_poet = BeautifulSoup(page_poet, \"lxml\")\n",
    "        poet_card = soup_poet.find(\"div\", {'class': 'overflow-y-scroll px-4 py-6 max-h-[70vh] text-sm bg-white dark:bg-gray-800 rounded shadow-lg text-base'})\n",
    "         \n",
    "        poets += [[poet_, poet_card.text]]\n",
    "        \n",
    "        \n",
    "    return poets"
   ]
  },
  {
   "cell_type": "code",
   "execution_count": 105,
   "id": "7dd03c94",
   "metadata": {},
   "outputs": [
    {
     "data": {
      "application/vnd.jupyter.widget-view+json": {
       "model_id": "60d2f59ce1ae4017a71e88d5c1a5ed1d",
       "version_major": 2,
       "version_minor": 0
      },
      "text/plain": [
       "  0%|          | 0/188 [00:00<?, ?it/s]"
      ]
     },
     "metadata": {},
     "output_type": "display_data"
    }
   ],
   "source": [
    "# get the list of all poets in the website, that's 4,512 poet. \n",
    "from tqdm.notebook import tqdm\n",
    "all_poets = []\n",
    "for i in tqdm(range(1,189)):\n",
    "    all_poets += poets_per_page(i)"
   ]
  },
  {
   "cell_type": "markdown",
   "id": "ef5cb1d0",
   "metadata": {},
   "source": [
    "We'll create a csv file to contain the poets with their biographie."
   ]
  },
  {
   "cell_type": "code",
   "execution_count": 106,
   "id": "071c08fd",
   "metadata": {},
   "outputs": [],
   "source": [
    "dict = {'poet': [all_poets[i][0] for i in range(len(all_poets))], 'bio': [all_poets[i][1] for i in range(len(all_poets))]}"
   ]
  },
  {
   "cell_type": "code",
   "execution_count": 107,
   "id": "3d23132e",
   "metadata": {},
   "outputs": [],
   "source": [
    "pd.DataFrame(dict).to_csv('all_poets')"
   ]
  },
  {
   "cell_type": "code",
   "execution_count": 4,
   "id": "d7014a6e",
   "metadata": {},
   "outputs": [],
   "source": [
    "all_poets = pd.read_csv(\"all_poets\")"
   ]
  },
  {
   "cell_type": "code",
   "execution_count": 112,
   "id": "bc08a3bf",
   "metadata": {},
   "outputs": [
    {
     "data": {
      "text/html": [
       "<div>\n",
       "<style scoped>\n",
       "    .dataframe tbody tr th:only-of-type {\n",
       "        vertical-align: middle;\n",
       "    }\n",
       "\n",
       "    .dataframe tbody tr th {\n",
       "        vertical-align: top;\n",
       "    }\n",
       "\n",
       "    .dataframe thead th {\n",
       "        text-align: right;\n",
       "    }\n",
       "</style>\n",
       "<table border=\"1\" class=\"dataframe\">\n",
       "  <thead>\n",
       "    <tr style=\"text-align: right;\">\n",
       "      <th></th>\n",
       "      <th>Unnamed: 0</th>\n",
       "      <th>poet</th>\n",
       "      <th>bio</th>\n",
       "    </tr>\n",
       "  </thead>\n",
       "  <tbody>\n",
       "    <tr>\n",
       "      <th>0</th>\n",
       "      <td>0</td>\n",
       "      <td>https://diwandb.com/poet/ابن-الرومي.html</td>\n",
       "      <td>\\nابن الرومي221 - 283 هـ / 836 - 896 معلي بن ا...</td>\n",
       "    </tr>\n",
       "    <tr>\n",
       "      <th>1</th>\n",
       "      <td>1</td>\n",
       "      <td>https://diwandb.com/poet/أبو-العلاء-المعري.html</td>\n",
       "      <td>\\nأحمد بن عبد الله بن سليمان، التنوخي المعري. ...</td>\n",
       "    </tr>\n",
       "    <tr>\n",
       "      <th>2</th>\n",
       "      <td>2</td>\n",
       "      <td>https://diwandb.com/poet/ابن-نباتة-المصري.html</td>\n",
       "      <td>\\nمحمد بن محمد بن محمد بن الحسن الجذامي الفارق...</td>\n",
       "    </tr>\n",
       "    <tr>\n",
       "      <th>3</th>\n",
       "      <td>3</td>\n",
       "      <td>https://diwandb.com/poet/عبد-الغني-النابلسي.html</td>\n",
       "      <td>\\nعبد الغني النابلسي1050 - 1143 هـ / 1641 - 17...</td>\n",
       "    </tr>\n",
       "    <tr>\n",
       "      <th>4</th>\n",
       "      <td>4</td>\n",
       "      <td>https://diwandb.com/poet/جبران-خليل-جبران.html</td>\n",
       "      <td>\\nجبران خليل جبران ولد في 6 يناير 1883 في بلدة...</td>\n",
       "    </tr>\n",
       "    <tr>\n",
       "      <th>...</th>\n",
       "      <td>...</td>\n",
       "      <td>...</td>\n",
       "      <td>...</td>\n",
       "    </tr>\n",
       "    <tr>\n",
       "      <th>4507</th>\n",
       "      <td>4507</td>\n",
       "      <td>https://diwandb.com/poet/أبو-دهمان-محمد-بن-أبي...</td>\n",
       "      <td>\\nأَبُو دهمان بصرى عَرَبِيّ تقلد سَابُور من كو...</td>\n",
       "    </tr>\n",
       "    <tr>\n",
       "      <th>4508</th>\n",
       "      <td>4508</td>\n",
       "      <td>https://diwandb.com/poet/دينار-بن-نعيم.html</td>\n",
       "      <td>\\nدينار بن نُعَيْم دينار بن نعيم بن حصين بن سع...</td>\n",
       "    </tr>\n",
       "    <tr>\n",
       "      <th>4509</th>\n",
       "      <td>4509</td>\n",
       "      <td>https://diwandb.com/poet/ابن-جرار-الحمي.html</td>\n",
       "      <td>\\nابن جرار الحمي أبو عبد الله محمد بن عيسى بن ...</td>\n",
       "    </tr>\n",
       "    <tr>\n",
       "      <th>4510</th>\n",
       "      <td>4510</td>\n",
       "      <td>https://diwandb.com/poet/ابن-الباطوخ-الواعظ.html</td>\n",
       "      <td>\\n(ت 544 ه) مُحَمَّد بن مُحَمَّد بن عليّ ابْن ...</td>\n",
       "    </tr>\n",
       "    <tr>\n",
       "      <th>4511</th>\n",
       "      <td>4511</td>\n",
       "      <td>https://diwandb.com/poet/منير-الراسبي.html</td>\n",
       "      <td>\\nمُنير الراسبي منير بن صخر بن يعمر الراسبي. ش...</td>\n",
       "    </tr>\n",
       "  </tbody>\n",
       "</table>\n",
       "<p>4512 rows × 3 columns</p>\n",
       "</div>"
      ],
      "text/plain": [
       "      Unnamed: 0                                               poet  \\\n",
       "0              0           https://diwandb.com/poet/ابن-الرومي.html   \n",
       "1              1    https://diwandb.com/poet/أبو-العلاء-المعري.html   \n",
       "2              2     https://diwandb.com/poet/ابن-نباتة-المصري.html   \n",
       "3              3   https://diwandb.com/poet/عبد-الغني-النابلسي.html   \n",
       "4              4     https://diwandb.com/poet/جبران-خليل-جبران.html   \n",
       "...          ...                                                ...   \n",
       "4507        4507  https://diwandb.com/poet/أبو-دهمان-محمد-بن-أبي...   \n",
       "4508        4508        https://diwandb.com/poet/دينار-بن-نعيم.html   \n",
       "4509        4509       https://diwandb.com/poet/ابن-جرار-الحمي.html   \n",
       "4510        4510   https://diwandb.com/poet/ابن-الباطوخ-الواعظ.html   \n",
       "4511        4511         https://diwandb.com/poet/منير-الراسبي.html   \n",
       "\n",
       "                                                    bio  \n",
       "0     \\nابن الرومي221 - 283 هـ / 836 - 896 معلي بن ا...  \n",
       "1     \\nأحمد بن عبد الله بن سليمان، التنوخي المعري. ...  \n",
       "2     \\nمحمد بن محمد بن محمد بن الحسن الجذامي الفارق...  \n",
       "3     \\nعبد الغني النابلسي1050 - 1143 هـ / 1641 - 17...  \n",
       "4     \\nجبران خليل جبران ولد في 6 يناير 1883 في بلدة...  \n",
       "...                                                 ...  \n",
       "4507  \\nأَبُو دهمان بصرى عَرَبِيّ تقلد سَابُور من كو...  \n",
       "4508  \\nدينار بن نُعَيْم دينار بن نعيم بن حصين بن سع...  \n",
       "4509  \\nابن جرار الحمي أبو عبد الله محمد بن عيسى بن ...  \n",
       "4510  \\n(ت 544 ه) مُحَمَّد بن مُحَمَّد بن عليّ ابْن ...  \n",
       "4511  \\nمُنير الراسبي منير بن صخر بن يعمر الراسبي. ش...  \n",
       "\n",
       "[4512 rows x 3 columns]"
      ]
     },
     "execution_count": 112,
     "metadata": {},
     "output_type": "execute_result"
    }
   ],
   "source": [
    "all_poets"
   ]
  },
  {
   "cell_type": "code",
   "execution_count": 124,
   "id": "7b73295c",
   "metadata": {},
   "outputs": [
    {
     "data": {
      "text/plain": [
       "'\\nابن الرومي221 - 283 هـ / 836 - 896 معلي بن العباس بن جريج أو جورجيس، الرومي.شاعر كبير، من طبقة بشار والمتنبي، رومي الأصل، كان جده من موالي بني العباس.ولد ونشأ ببغداد، ومات فيها مسموماً قيل: دس له السمَّ القاسم بن عبيد الله -وزير المعتضد- وكان ابن الرومي قد هجاه.قال المرزباني: لا أعلم أنه مدح أحداً من رئيس أو مرؤوس إلا وعاد إليه فهجاه، ولذلك قلّت فائدته من قول الشعر وتحاماه الرؤساء وكان سبباً لوفاته.وقال أيضاً: وأخطأ محمد بن داود فيما رواه لمثقال (الوسطي) من أشعار ابن الرومي التي ليس في طاقة مثقال ولا أحد من شعراء زمانه أن يقول مثلها إلا ابن الرومي.\\n'"
      ]
     },
     "execution_count": 124,
     "metadata": {},
     "output_type": "execute_result"
    }
   ],
   "source": [
    "# the biography of Ibn Rumi for example (https://en.wikipedia.org/wiki/Ibn_al-Rumi)\n",
    "all_poets['bio'][0]"
   ]
  },
  {
   "cell_type": "markdown",
   "id": "0cb85851",
   "metadata": {},
   "source": [
    "The next two functions will be used to define `poems_per_poet(poet_url)` below"
   ]
  },
  {
   "cell_type": "code",
   "execution_count": 117,
   "id": "9e88a77c",
   "metadata": {},
   "outputs": [],
   "source": [
    "def get_titles_per_page(address):\n",
    "    titles_per_page = []\n",
    "    url = requests.get(address)\n",
    "    page = url.content\n",
    "    soup = BeautifulSoup(page, \"lxml\")\n",
    "    # list of all the titles in the page (address)\n",
    "    frames = soup.find_all(\"div\", {'class': 'slice'})\n",
    "    for i in range(len(frames)):\n",
    "        titles_per_page += ['https://diwandb.com'+frames[i].find(href=re.compile(\"/poem/\")).get('href')]\n",
    "    return titles_per_page\n",
    "\n",
    "# the output of this function will be fed to get_poem_info()  "
   ]
  },
  {
   "cell_type": "code",
   "execution_count": 118,
   "id": "bdd512df",
   "metadata": {},
   "outputs": [
    {
     "data": {
      "text/plain": [
       "['https://diwandb.com/poem/أحد-عشر-كوكبا.html',\n",
       " 'https://diwandb.com/poem/ليلة-الغرباء.html',\n",
       " 'https://diwandb.com/poem/فبدأت-حيث-توقفوا.html',\n",
       " 'https://diwandb.com/poem/أسير-هموم.html',\n",
       " 'https://diwandb.com/poem/فقد-الأحبة-غربة.html']"
      ]
     },
     "execution_count": 118,
     "metadata": {},
     "output_type": "execute_result"
    }
   ],
   "source": [
    "get_titles_per_page('https://diwandb.com/poet/%D8%B9%D9%84%D9%8A-%D8%A8%D8%A7.html?page=2')[0:5]"
   ]
  },
  {
   "cell_type": "code",
   "execution_count": 119,
   "id": "25e12a52",
   "metadata": {},
   "outputs": [],
   "source": [
    "def pages_per_poet(poet_url: str)->list:\n",
    "    \"\"\"\n",
    "    Given a poet, this function will return all the pages of his/her poems\n",
    "    \"\"\"\n",
    "    all_pages = []\n",
    "    url = requests.get(poet_url.split('?')[0])\n",
    "    page = url.content\n",
    "    soup = BeautifulSoup(page, \"lxml\")\n",
    "    pages = soup.find(\"nav\", {'class': 'pagination'})\n",
    "    if pages==None:\n",
    "        return poet_url\n",
    "    i = 0\n",
    "    while pages.find('button', {'wire:click': \"nextPage\"}):\n",
    "        poet_url = poet_url.split('?')[0] + f\"?page={i+1}\"\n",
    "        all_pages += [poet_url]\n",
    "        url = requests.get(poet_url)\n",
    "        page = url.content\n",
    "        soup = BeautifulSoup(page, \"lxml\")\n",
    "        pages = soup.find(\"nav\", {'class': 'pagination'})\n",
    "        i +=1\n",
    "    return all_pages\n",
    "    \n",
    "# the output of this function will be fed to get_titles_per_page()"
   ]
  },
  {
   "cell_type": "markdown",
   "id": "b4269b72",
   "metadata": {},
   "source": [
    "This is an important function. Given the url of a poet, it returns the list of his/her poems"
   ]
  },
  {
   "cell_type": "code",
   "execution_count": 120,
   "id": "6abdb374",
   "metadata": {},
   "outputs": [],
   "source": [
    "def poems_per_poet(poet_url):\n",
    "    \"\"\"\n",
    "    returns the poems of a given author\n",
    "    \"\"\"\n",
    "    poems = []\n",
    "    for address in pages_per_poet(poet_url):\n",
    "        poems += get_titles_per_page(address)\n",
    "    return poems"
   ]
  },
  {
   "cell_type": "code",
   "execution_count": 121,
   "id": "00cb103e",
   "metadata": {},
   "outputs": [
    {
     "data": {
      "text/plain": [
       "['https://diwandb.com/poem/عائشة-وحي-القصيد.html',\n",
       " 'https://diwandb.com/poem/بوح-الأوردة.html',\n",
       " 'https://diwandb.com/poem/تقاسيم-على-ثوب-الفجر.html',\n",
       " 'https://diwandb.com/poem/لمن-يبكي.html',\n",
       " 'https://diwandb.com/poem/النحت-في-صخر-الحروف.html']"
      ]
     },
     "execution_count": 121,
     "metadata": {},
     "output_type": "execute_result"
    }
   ],
   "source": [
    "poet_url = 'https://diwandb.com/poet/%D8%B5%D9%82%D8%B1-%D8%A3%D8%A8%D9%88-%D8%B9%D9%8A%D8%AF%D8%A9.html'\n",
    "poems_per_poet(poet_url)[0:5]"
   ]
  },
  {
   "cell_type": "markdown",
   "id": "1651283b",
   "metadata": {},
   "source": [
    "Feeding all_poets to the function `poems_per_poet(poet_url)` above, we get all the (urls of) poems published in the website. Then to each of these, we apply the next function to get the  poem itself, its `period` and `meter`. "
   ]
  },
  {
   "cell_type": "code",
   "execution_count": 122,
   "id": "1006856b",
   "metadata": {},
   "outputs": [],
   "source": [
    "def get_poem_info(poem_url: str):\n",
    "    \"\"\"\n",
    "    the function gets the url address and returns the info of the poem\n",
    "    \"\"\"\n",
    "    url = requests.get(poem_url)\n",
    "    page = url.content\n",
    "    soup = BeautifulSoup(page, \"lxml\")\n",
    "    # the body of the poem\n",
    "    poem = soup.find(\"div\", {'class': 'mx-auto w-full text-xl sm:text-3xl md:max-w-lg twice leading-12'})\n",
    "    # the title\n",
    "    title = soup.find(\"div\", {'class': 'mb-6'}).find(\"h1\").text\n",
    "    # next we extract the name of the poet, the meter and the historical period\n",
    "    data = soup.find(\"div\", {'class': 'flex flex-wrap justify-between items-center my-4 leading-10'})\n",
    "    poet = data.find(href=re.compile(\"poet\")).text.strip('\\n')\n",
    "    meter = data.find(href=re.compile(\"meter\")).text.strip('#')\n",
    "    period = data.find(href=re.compile(\"period\")).text.strip('#')"
   ]
  },
  {
   "cell_type": "code",
   "execution_count": null,
   "id": "350dc04f",
   "metadata": {},
   "outputs": [],
   "source": []
  }
 ],
 "metadata": {
  "kernelspec": {
   "display_name": "Python 3 (ipykernel)",
   "language": "python",
   "name": "python3"
  },
  "language_info": {
   "codemirror_mode": {
    "name": "ipython",
    "version": 3
   },
   "file_extension": ".py",
   "mimetype": "text/x-python",
   "name": "python",
   "nbconvert_exporter": "python",
   "pygments_lexer": "ipython3",
   "version": "3.9.13"
  }
 },
 "nbformat": 4,
 "nbformat_minor": 5
}
