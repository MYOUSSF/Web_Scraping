{
 "cells": [
  {
   "cell_type": "markdown",
   "id": "6d0f0f45",
   "metadata": {},
   "source": [
    "@YoussefM"
   ]
  },
  {
   "cell_type": "code",
   "execution_count": 13,
   "id": "34b46917",
   "metadata": {},
   "outputs": [],
   "source": [
    "import requests\n",
    "from bs4 import BeautifulSoup\n",
    "import lxml\n",
    "import re"
   ]
  },
  {
   "cell_type": "code",
   "execution_count": 14,
   "id": "28b5f9ed",
   "metadata": {},
   "outputs": [],
   "source": [
    "import pandas as pd"
   ]
  },
  {
   "cell_type": "code",
   "execution_count": 51,
   "id": "cda51449",
   "metadata": {},
   "outputs": [],
   "source": [
    "def poets_per_page(i: int):\n",
    "    \"\"\"\n",
    "    takes a page number, an integer between 1 and 188, and returns the list \n",
    "    of all poets in the given page \n",
    "    \"\"\"\n",
    "    poets = []\n",
    "    address = 'https://diwandb.com/poets?page='+str(i)\n",
    "    url = requests.get(address)\n",
    "    page = url.content\n",
    "    soup = BeautifulSoup(page, \"lxml\")\n",
    "    data = soup.find_all(href=re.compile(\"/poet/\"))\n",
    "    for poet in data:\n",
    "        poet_url = 'https://diwandb.com'+poet.get('href')\n",
    "        \n",
    "        poet_page = requests.get(poet_url).content\n",
    "        soup_poet = BeautifulSoup(poet_page, \"lxml\")\n",
    "        soup_poet = soup_poet.find(\"div\", {'class': 'col-span-1 order-last lg:order-first'})\n",
    "        poet_card = soup_poet.find(\"div\", {'class': 'overflow-y-scroll px-4 py-6 max-h-[70vh] text-sm bg-white dark:bg-gray-800 rounded shadow-lg text-base'})\n",
    "        poet_name = soup_poet.find(\"h2\", {\"class\": \"my-4\"}).text\n",
    "        poet_period = soup_poet.find(href=re.compile(\"period\"))\n",
    "        if poet_period != None:\n",
    "            poet_period = poet_period.text.strip(\"#\")\n",
    "        poets += [[poet_name, poet_card.text.strip(\"\\n\"), poet_period, poet_url]]\n",
    "        \n",
    "        \n",
    "    return poets"
   ]
  },
  {
   "cell_type": "code",
   "execution_count": 52,
   "id": "7dd03c94",
   "metadata": {},
   "outputs": [
    {
     "data": {
      "application/vnd.jupyter.widget-view+json": {
       "model_id": "0f8ab188d049489eb2911d80bd59558b",
       "version_major": 2,
       "version_minor": 0
      },
      "text/plain": [
       "  0%|          | 0/188 [00:00<?, ?it/s]"
      ]
     },
     "metadata": {},
     "output_type": "display_data"
    }
   ],
   "source": [
    "# get the list of all poets in the website, that's 4,512 poet. \n",
    "from tqdm.notebook import tqdm\n",
    "all_poets = []\n",
    "for i in tqdm(range(1,189)):\n",
    "    all_poets += poets_per_page(i)"
   ]
  },
  {
   "cell_type": "markdown",
   "id": "ef5cb1d0",
   "metadata": {},
   "source": [
    "We'll create a csv file to contain the poets with their biographie."
   ]
  },
  {
   "cell_type": "code",
   "execution_count": null,
   "id": "cd5f08c4",
   "metadata": {},
   "outputs": [],
   "source": [
    "###pd.DataFrame(all_poets).to_csv('all_poets')"
   ]
  },
  {
   "cell_type": "code",
   "execution_count": 139,
   "id": "d7014a6e",
   "metadata": {},
   "outputs": [],
   "source": [
    "df = pd.read_csv(\"all_poets\")"
   ]
  },
  {
   "cell_type": "code",
   "execution_count": 140,
   "id": "bc08a3bf",
   "metadata": {},
   "outputs": [],
   "source": [
    "df.drop('Unnamed: 0', axis=1, inplace=True)"
   ]
  },
  {
   "cell_type": "code",
   "execution_count": 141,
   "id": "782c0f16",
   "metadata": {},
   "outputs": [],
   "source": [
    "df.rename(columns={'0':'poet', '1':'poet_bio', '2':'period', '3':'poet_url'}, inplace=True)"
   ]
  },
  {
   "cell_type": "code",
   "execution_count": 142,
   "id": "7b73295c",
   "metadata": {},
   "outputs": [
    {
     "data": {
      "text/plain": [
       "'ابن الرومي221 - 283 هـ / 836 - 896 معلي بن العباس بن جريج أو جورجيس، الرومي.شاعر كبير، من طبقة بشار والمتنبي، رومي الأصل، كان جده من موالي بني العباس.ولد ونشأ ببغداد، ومات فيها مسموماً قيل: دس له السمَّ القاسم بن عبيد الله -وزير المعتضد- وكان ابن الرومي قد هجاه.قال المرزباني: لا أعلم أنه مدح أحداً من رئيس أو مرؤوس إلا وعاد إليه فهجاه، ولذلك قلّت فائدته من قول الشعر وتحاماه الرؤساء وكان سبباً لوفاته.وقال أيضاً: وأخطأ محمد بن داود فيما رواه لمثقال (الوسطي) من أشعار ابن الرومي التي ليس في طاقة مثقال ولا أحد من شعراء زمانه أن يقول مثلها إلا ابن الرومي.'"
      ]
     },
     "execution_count": 142,
     "metadata": {},
     "output_type": "execute_result"
    }
   ],
   "source": [
    "# the biography of Ibn Rumi for example (https://en.wikipedia.org/wiki/Ibn_al-Rumi)\n",
    "df['poet_bio'][0]"
   ]
  },
  {
   "cell_type": "markdown",
   "id": "0cb85851",
   "metadata": {},
   "source": [
    "The next two functions will be used to define `poems_per_poet(poet_url)` below"
   ]
  },
  {
   "cell_type": "code",
   "execution_count": 68,
   "id": "9e88a77c",
   "metadata": {},
   "outputs": [],
   "source": [
    "def get_titles_per_page(address):\n",
    "    titles_per_page = []\n",
    "    url = requests.get(address)\n",
    "    page = url.content\n",
    "    soup = BeautifulSoup(page, \"lxml\")\n",
    "    # list of all the titles in the page (address)\n",
    "    frames = soup.find_all(\"div\", {'class': 'slice'})\n",
    "    for i in range(len(frames)):\n",
    "        titles_per_page += ['https://diwandb.com'+frames[i].find(href=re.compile(\"/poem/\")).get('href')]\n",
    "    return titles_per_page\n",
    "\n",
    "# the output of this function will be fed to get_poem_info()  "
   ]
  },
  {
   "cell_type": "code",
   "execution_count": 118,
   "id": "bdd512df",
   "metadata": {},
   "outputs": [
    {
     "data": {
      "text/plain": [
       "['https://diwandb.com/poem/أحد-عشر-كوكبا.html',\n",
       " 'https://diwandb.com/poem/ليلة-الغرباء.html',\n",
       " 'https://diwandb.com/poem/فبدأت-حيث-توقفوا.html',\n",
       " 'https://diwandb.com/poem/أسير-هموم.html',\n",
       " 'https://diwandb.com/poem/فقد-الأحبة-غربة.html']"
      ]
     },
     "execution_count": 118,
     "metadata": {},
     "output_type": "execute_result"
    }
   ],
   "source": [
    "get_titles_per_page('https://diwandb.com/poet/%D8%B9%D9%84%D9%8A-%D8%A8%D8%A7.html?page=2')[0:5]"
   ]
  },
  {
   "cell_type": "code",
   "execution_count": 69,
   "id": "25e12a52",
   "metadata": {},
   "outputs": [],
   "source": [
    "def pages_per_poet(poet_url: str)->list:\n",
    "    \"\"\"\n",
    "    Given a poet, this function will return all the pages of his/her poems\n",
    "    \"\"\"\n",
    "    all_pages = []\n",
    "    url = requests.get(poet_url.split('?')[0])\n",
    "    page = url.content\n",
    "    soup = BeautifulSoup(page, \"lxml\")\n",
    "    pages = soup.find(\"nav\", {'class': 'pagination'})\n",
    "    if pages==None:\n",
    "        return poet_url\n",
    "    i = 0\n",
    "    while pages.find('button', {'wire:click': \"nextPage\"}):\n",
    "        poet_url = poet_url.split('?')[0] + f\"?page={i+1}\"\n",
    "        all_pages += [poet_url]\n",
    "        url = requests.get(poet_url)\n",
    "        page = url.content\n",
    "        soup = BeautifulSoup(page, \"lxml\")\n",
    "        pages = soup.find(\"nav\", {'class': 'pagination'})\n",
    "        i +=1\n",
    "    return all_pages\n",
    "    \n",
    "# the output of this function will be fed to get_titles_per_page()"
   ]
  },
  {
   "cell_type": "markdown",
   "id": "b4269b72",
   "metadata": {},
   "source": [
    "This is an important function. Given the url of a poet, it returns the list of his/her poems"
   ]
  },
  {
   "cell_type": "code",
   "execution_count": 70,
   "id": "6abdb374",
   "metadata": {},
   "outputs": [],
   "source": [
    "def poems_per_poet(poet_url):\n",
    "    \"\"\"\n",
    "    returns the poems of a given author\n",
    "    \"\"\"\n",
    "    poems = []\n",
    "    for address in pages_per_poet(poet_url):\n",
    "        poems += get_titles_per_page(address)\n",
    "    return poems"
   ]
  },
  {
   "cell_type": "markdown",
   "id": "22db8872",
   "metadata": {},
   "source": [
    "As an example we will retrieve the titles of the poems of `Abou Alaa al-Maarri (December 973 – May 1057)` (https://en.wikipedia.org/wiki/Al-Ma%27arri). There are `1869` of his poems in the database of Diwandb."
   ]
  },
  {
   "cell_type": "code",
   "execution_count": 82,
   "id": "00cb103e",
   "metadata": {},
   "outputs": [],
   "source": [
    "poet_url = 'https://diwandb.com/poet/أبو-العلاء-المعري.html'\n",
    "poems = poems_per_poet(poet_url)"
   ]
  },
  {
   "cell_type": "code",
   "execution_count": 86,
   "id": "21e85b72",
   "metadata": {},
   "outputs": [
    {
     "data": {
      "text/plain": [
       "'https://diwandb.com/poem/قد-كنت-أحيانا-شديد-المعتمد.html'"
      ]
     },
     "execution_count": 86,
     "metadata": {},
     "output_type": "execute_result"
    }
   ],
   "source": [
    "len(poems)"
   ]
  },
  {
   "cell_type": "markdown",
   "id": "1651283b",
   "metadata": {},
   "source": [
    "Feeding all_poets to the function `poems_per_poet(poet_url)` above, we get all the (urls of) poems published in the website. Then to each of these, we apply the next function to get the  poem itself, its `period` and `meter`. "
   ]
  },
  {
   "cell_type": "code",
   "execution_count": 87,
   "id": "1006856b",
   "metadata": {},
   "outputs": [],
   "source": [
    "def get_poem_info(poem_url: str)->list:\n",
    "    \"\"\"\n",
    "    the function gets the url address and returns the info of the poem\n",
    "    \"\"\"\n",
    "    url = requests.get(poem_url)\n",
    "    page = url.content\n",
    "    soup = BeautifulSoup(page, \"lxml\")\n",
    "    # the body of the poem\n",
    "    poem = soup.find(\"div\", {'class': 'mx-auto w-full text-xl sm:text-3xl md:max-w-lg twice leading-12'})\n",
    "    # the title\n",
    "    title = soup.find(\"div\", {'class': 'mb-6'}).find(\"h1\").text\n",
    "    # next we extract the name of the poet, the meter and the historical period\n",
    "    data = soup.find(\"div\", {'class': 'flex flex-wrap justify-between items-center my-4 leading-10'})\n",
    "    if poem == None:\n",
    "        poem = soup.find(\"div\", {'class': 'clear-both w-full text-xl sm:text-3xl text-center leading-12'})\n",
    "   \n",
    "    poem = poem.contents[1:-1]\n",
    "    #poet = data.find(href=re.compile(\"poet\")).text.strip('\\n')\n",
    "    meter = data.find(href=re.compile(\"meter\"))\n",
    "    if meter:\n",
    "        meter = meter.text.strip('#')\n",
    "    # uncomment period if you want to include it in your function\n",
    "    #period = data.find(href=re.compile(\"period\")).text.strip('#')\n",
    "    return title, poem, meter"
   ]
  },
  {
   "cell_type": "markdown",
   "id": "c25fb60e",
   "metadata": {},
   "source": [
    "Now we download the `1869` poem of `Abou Alaa al Maarri`"
   ]
  },
  {
   "cell_type": "code",
   "execution_count": 88,
   "id": "350dc04f",
   "metadata": {},
   "outputs": [
    {
     "data": {
      "application/vnd.jupyter.widget-view+json": {
       "model_id": "8a07913403ed439eb3c3afbd86e400cf",
       "version_major": 2,
       "version_minor": 0
      },
      "text/plain": [
       "  0%|          | 0/1869 [00:00<?, ?it/s]"
      ]
     },
     "metadata": {},
     "output_type": "display_data"
    }
   ],
   "source": [
    "abou_alaa = []\n",
    "for poem in tqdm(poems):\n",
    "    abou_alaa += [get_poem_info(poem)]"
   ]
  },
  {
   "cell_type": "markdown",
   "id": "3dc25f2c",
   "metadata": {},
   "source": [
    "Let's save the poems locally into a pandas dataframe"
   ]
  },
  {
   "cell_type": "code",
   "execution_count": 156,
   "id": "458ead4e",
   "metadata": {},
   "outputs": [],
   "source": [
    "###pd.DataFrame(abou_alaa).to_csv('abou_alaa')"
   ]
  },
  {
   "cell_type": "markdown",
   "id": "7d35b8fd",
   "metadata": {},
   "source": [
    "We load the poems for exploration"
   ]
  },
  {
   "cell_type": "code",
   "execution_count": 180,
   "id": "e9e23694",
   "metadata": {},
   "outputs": [],
   "source": [
    "abou_alaa = pd.read_csv('abou_alaa')"
   ]
  },
  {
   "cell_type": "code",
   "execution_count": 181,
   "id": "a3cef2c7",
   "metadata": {},
   "outputs": [],
   "source": [
    "abou_alaa.drop('Unnamed: 0', axis=1, inplace=True)"
   ]
  },
  {
   "cell_type": "code",
   "execution_count": 182,
   "id": "a5e6bc39",
   "metadata": {},
   "outputs": [],
   "source": [
    "abou_alaa.rename(columns={'0':'title','1':'poem','2':'meter'}, inplace=True)"
   ]
  },
  {
   "cell_type": "code",
   "execution_count": 201,
   "id": "4fb407bc",
   "metadata": {},
   "outputs": [
    {
     "data": {
      "text/html": [
       "<div>\n",
       "<style scoped>\n",
       "    .dataframe tbody tr th:only-of-type {\n",
       "        vertical-align: middle;\n",
       "    }\n",
       "\n",
       "    .dataframe tbody tr th {\n",
       "        vertical-align: top;\n",
       "    }\n",
       "\n",
       "    .dataframe thead th {\n",
       "        text-align: right;\n",
       "    }\n",
       "</style>\n",
       "<table border=\"1\" class=\"dataframe\">\n",
       "  <thead>\n",
       "    <tr style=\"text-align: right;\">\n",
       "      <th></th>\n",
       "      <th>title</th>\n",
       "      <th>poem</th>\n",
       "      <th>meter</th>\n",
       "    </tr>\n",
       "  </thead>\n",
       "  <tbody>\n",
       "    <tr>\n",
       "      <th>0</th>\n",
       "      <td>قصيدة توَهّمتُ خَيراً في الزّمانِ وأهلِهِ،</td>\n",
       "      <td>[&lt;p&gt;تَوَهَّمتُ خَيراً في الزَمانِ وَأَهلِهِ&lt;/p...</td>\n",
       "      <td>بحر الطويل</td>\n",
       "    </tr>\n",
       "    <tr>\n",
       "      <th>1</th>\n",
       "      <td>قصيدة لعلّ أُناساً، في المحاريبِ، خَوّفوا</td>\n",
       "      <td>[&lt;p&gt;لَعَلَّ أُناساً في المَحاريبِ خَوَّفوا&lt;/p&gt;...</td>\n",
       "      <td>بحر الطويل</td>\n",
       "    </tr>\n",
       "    <tr>\n",
       "      <th>2</th>\n",
       "      <td>قصيدة تحمّلْ عن أبيكَ الثّقلَ، يوماً،</td>\n",
       "      <td>[&lt;p&gt;تَحَمَّل عَن أَبيكَ الثِقلَ يَوماً&lt;/p&gt;, &lt;p...</td>\n",
       "      <td>بحر الوافر</td>\n",
       "    </tr>\n",
       "    <tr>\n",
       "      <th>3</th>\n",
       "      <td>قصيدة أُولو الفضلِ، في أوطانهم، غرباءُ،</td>\n",
       "      <td>[&lt;p&gt;أُولو الفضلِ، في أوطانهم، غرباءُ،&lt;/p&gt;, &lt;p&gt;...</td>\n",
       "      <td>NaN</td>\n",
       "    </tr>\n",
       "    <tr>\n",
       "      <th>4</th>\n",
       "      <td>قصيدة غدَوتَ مريضَ العقلِ والدّينِ فالقَني</td>\n",
       "      <td>[&lt;p&gt;غَدَوتَ مَريضَ العَقلِ وَالدينِ فَاِلقَني&lt;...</td>\n",
       "      <td>بحر الطويل</td>\n",
       "    </tr>\n",
       "    <tr>\n",
       "      <th>...</th>\n",
       "      <td>...</td>\n",
       "      <td>...</td>\n",
       "      <td>...</td>\n",
       "    </tr>\n",
       "    <tr>\n",
       "      <th>1864</th>\n",
       "      <td>قصيدة تغدو على الأرض في حالات ساكنها</td>\n",
       "      <td>[&lt;p&gt;تَغدو عَلى الأَرضِ في حالاتِ ساكِنِها&lt;/p&gt;,...</td>\n",
       "      <td>بحر البسيط</td>\n",
       "    </tr>\n",
       "    <tr>\n",
       "      <th>1865</th>\n",
       "      <td>قصيدة ألم يَبْلُغْكَ فَتْكي بالمَواضي</td>\n",
       "      <td>[&lt;p&gt;ألم يَبْلُغْكَ فَتْكي بالمَواضي&lt;/p&gt;, &lt;p&gt;وس...</td>\n",
       "      <td>NaN</td>\n",
       "    </tr>\n",
       "    <tr>\n",
       "      <th>1866</th>\n",
       "      <td>قصيدة أيَدْفَعُ مُعْجِزاتِ الرُّسْل قوْمٌ</td>\n",
       "      <td>[&lt;p&gt;أيَدْفَعُ مُعْجِزاتِ الرُّسْل قوْمٌ&lt;/p&gt;, &lt;...</td>\n",
       "      <td>NaN</td>\n",
       "    </tr>\n",
       "    <tr>\n",
       "      <th>1867</th>\n",
       "      <td>قصيدة ألحُسْنُ يَعْلَمُ أنّ مَنْ وارَيْتَهُ</td>\n",
       "      <td>[&lt;p&gt;ألحُسْنُ يَعْلَمُ أنّ مَنْ وارَيْتَهُ&lt;/p&gt;,...</td>\n",
       "      <td>NaN</td>\n",
       "    </tr>\n",
       "    <tr>\n",
       "      <th>1868</th>\n",
       "      <td>قصيدة أرَحْتِني فأرحْتُ الضُّمَّرَ القُودا</td>\n",
       "      <td>[&lt;p&gt;أرَحْتِني فأرحْتُ الضُّمَّرَ القُودا&lt;/p&gt;, ...</td>\n",
       "      <td>NaN</td>\n",
       "    </tr>\n",
       "  </tbody>\n",
       "</table>\n",
       "<p>1869 rows × 3 columns</p>\n",
       "</div>"
      ],
      "text/plain": [
       "                                            title  \\\n",
       "0      قصيدة توَهّمتُ خَيراً في الزّمانِ وأهلِهِ،   \n",
       "1       قصيدة لعلّ أُناساً، في المحاريبِ، خَوّفوا   \n",
       "2           قصيدة تحمّلْ عن أبيكَ الثّقلَ، يوماً،   \n",
       "3         قصيدة أُولو الفضلِ، في أوطانهم، غرباءُ،   \n",
       "4      قصيدة غدَوتَ مريضَ العقلِ والدّينِ فالقَني   \n",
       "...                                           ...   \n",
       "1864         قصيدة تغدو على الأرض في حالات ساكنها   \n",
       "1865        قصيدة ألم يَبْلُغْكَ فَتْكي بالمَواضي   \n",
       "1866    قصيدة أيَدْفَعُ مُعْجِزاتِ الرُّسْل قوْمٌ   \n",
       "1867  قصيدة ألحُسْنُ يَعْلَمُ أنّ مَنْ وارَيْتَهُ   \n",
       "1868   قصيدة أرَحْتِني فأرحْتُ الضُّمَّرَ القُودا   \n",
       "\n",
       "                                                   poem       meter  \n",
       "0     [<p>تَوَهَّمتُ خَيراً في الزَمانِ وَأَهلِهِ</p...  بحر الطويل  \n",
       "1     [<p>لَعَلَّ أُناساً في المَحاريبِ خَوَّفوا</p>...  بحر الطويل  \n",
       "2     [<p>تَحَمَّل عَن أَبيكَ الثِقلَ يَوماً</p>, <p...  بحر الوافر  \n",
       "3     [<p>أُولو الفضلِ، في أوطانهم، غرباءُ،</p>, <p>...         NaN  \n",
       "4     [<p>غَدَوتَ مَريضَ العَقلِ وَالدينِ فَاِلقَني<...  بحر الطويل  \n",
       "...                                                 ...         ...  \n",
       "1864  [<p>تَغدو عَلى الأَرضِ في حالاتِ ساكِنِها</p>,...  بحر البسيط  \n",
       "1865  [<p>ألم يَبْلُغْكَ فَتْكي بالمَواضي</p>, <p>وس...         NaN  \n",
       "1866  [<p>أيَدْفَعُ مُعْجِزاتِ الرُّسْل قوْمٌ</p>, <...         NaN  \n",
       "1867  [<p>ألحُسْنُ يَعْلَمُ أنّ مَنْ وارَيْتَهُ</p>,...         NaN  \n",
       "1868  [<p>أرَحْتِني فأرحْتُ الضُّمَّرَ القُودا</p>, ...         NaN  \n",
       "\n",
       "[1869 rows x 3 columns]"
      ]
     },
     "execution_count": 201,
     "metadata": {},
     "output_type": "execute_result"
    }
   ],
   "source": [
    "abou_alaa"
   ]
  },
  {
   "cell_type": "markdown",
   "id": "adec831e",
   "metadata": {},
   "source": [
    "Let's for example check the second poem in the list "
   ]
  },
  {
   "cell_type": "code",
   "execution_count": 200,
   "id": "c8cdcfc1",
   "metadata": {},
   "outputs": [
    {
     "data": {
      "text/plain": [
       "['[<p>لَعَلَّ أُناساً في المَحاريبِ خَوَّفوا</p>',\n",
       " ' <p>بِآيٍ كَناسٍ في المَشارِبِ أَطرَبوا</p>',\n",
       " ' <p>إِذا رامَ كَيداً بِالصَلاةِ مُقيمُها</p>',\n",
       " ' <p>فَتارِكُها عَمداً إِلى اللَهِ أَقرَبُ</p>',\n",
       " ' <p>فَلا يُمسِ فَخّاراً مِنَ الفَخرِ عائِدٌ</p>',\n",
       " ' <p>إِلى عُنصُرِ الفَخّارِ لِلنَفعِ يُضرَبُ</p>',\n",
       " ' <p>لَعَلَّ إِناءً مِنهُ يُصنَعُ مَرَّةً</p>',\n",
       " ' <p>فَيَأكُلُ فيهِ مَن أَرادَ وَيَشرَبُ</p>',\n",
       " ' <p>وَيُحمَلُ مِن أَرضٍ لِأُخرى وَما دَرى</p>',\n",
       " ' <p>فَواهاً لَهُ بَعدَ البِلى يَتَغَرَّبُ</p>]']"
      ]
     },
     "execution_count": 200,
     "metadata": {},
     "output_type": "execute_result"
    }
   ],
   "source": [
    "abou_alaa['poem'][1].split(',')"
   ]
  },
  {
   "cell_type": "code",
   "execution_count": null,
   "id": "2ba14e44",
   "metadata": {},
   "outputs": [],
   "source": []
  }
 ],
 "metadata": {
  "kernelspec": {
   "display_name": "Python 3 (ipykernel)",
   "language": "python",
   "name": "python3"
  },
  "language_info": {
   "codemirror_mode": {
    "name": "ipython",
    "version": 3
   },
   "file_extension": ".py",
   "mimetype": "text/x-python",
   "name": "python",
   "nbconvert_exporter": "python",
   "pygments_lexer": "ipython3",
   "version": "3.9.13"
  }
 },
 "nbformat": 4,
 "nbformat_minor": 5
}
